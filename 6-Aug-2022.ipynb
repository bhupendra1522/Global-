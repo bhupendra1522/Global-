{
 "cells": [
  {
   "cell_type": "markdown",
   "id": "ce0c1a42",
   "metadata": {},
   "source": [
    "GLOBAL AND LOCAL VARIABLE          "
   ]
  },
  {
   "cell_type": "code",
   "execution_count": 4,
   "id": "1ce3df3f",
   "metadata": {},
   "outputs": [],
   "source": [
    "testx=100 # global variable"
   ]
  },
  {
   "cell_type": "code",
   "execution_count": 5,
   "id": "703167dc",
   "metadata": {},
   "outputs": [],
   "source": [
    "def func():\n",
    "    p=45 # local variable\n",
    "9    print(p)"
   ]
  },
  {
   "cell_type": "code",
   "execution_count": null,
   "id": "a9cd63e2",
   "metadata": {},
   "outputs": [],
   "source": []
  },
  {
   "cell_type": "code",
   "execution_count": 6,
   "id": "57922c91",
   "metadata": {},
   "outputs": [
    {
     "ename": "NameError",
     "evalue": "name 'p' is not defined",
     "output_type": "error",
     "traceback": [
      "\u001b[1;31m---------------------------------------------------------------------------\u001b[0m",
      "\u001b[1;31mNameError\u001b[0m                                 Traceback (most recent call last)",
      "Input \u001b[1;32mIn [6]\u001b[0m, in \u001b[0;36m<cell line: 1>\u001b[1;34m()\u001b[0m\n\u001b[1;32m----> 1\u001b[0m \u001b[43mp\u001b[49m\n",
      "\u001b[1;31mNameError\u001b[0m: name 'p' is not defined"
     ]
    }
   ],
   "source": [
    "p"
   ]
  },
  {
   "cell_type": "code",
   "execution_count": 7,
   "id": "ab3ad579",
   "metadata": {},
   "outputs": [
    {
     "data": {
      "text/plain": [
       "100"
      ]
     },
     "execution_count": 7,
     "metadata": {},
     "output_type": "execute_result"
    }
   ],
   "source": [
    "testx"
   ]
  },
  {
   "cell_type": "code",
   "execution_count": 8,
   "id": "a51913a2",
   "metadata": {},
   "outputs": [],
   "source": [
    "def func():\n",
    "    p=45 # local variable\n",
    "    print(p)\n",
    "    print(testx)"
   ]
  },
  {
   "cell_type": "code",
   "execution_count": 9,
   "id": "0538032d",
   "metadata": {},
   "outputs": [
    {
     "name": "stdout",
     "output_type": "stream",
     "text": [
      "45\n",
      "100\n"
     ]
    }
   ],
   "source": [
    "func()"
   ]
  },
  {
   "cell_type": "code",
   "execution_count": 10,
   "id": "fced7a9d",
   "metadata": {},
   "outputs": [],
   "source": [
    "m=345"
   ]
  },
  {
   "cell_type": "code",
   "execution_count": 11,
   "id": "73a156a7",
   "metadata": {},
   "outputs": [],
   "source": [
    "def function2():\n",
    "    print(m)"
   ]
  },
  {
   "cell_type": "code",
   "execution_count": 12,
   "id": "7784ab89",
   "metadata": {},
   "outputs": [
    {
     "name": "stdout",
     "output_type": "stream",
     "text": [
      "345\n"
     ]
    }
   ],
   "source": [
    "function2()"
   ]
  },
  {
   "cell_type": "code",
   "execution_count": 13,
   "id": "0222e58c",
   "metadata": {},
   "outputs": [],
   "source": [
    "def f1():\n",
    "    a=10\n",
    "    print(a)"
   ]
  },
  {
   "cell_type": "code",
   "execution_count": 14,
   "id": "d437f858",
   "metadata": {},
   "outputs": [],
   "source": [
    "def f2():\n",
    "    f1()"
   ]
  },
  {
   "cell_type": "code",
   "execution_count": 15,
   "id": "c6e4a858",
   "metadata": {},
   "outputs": [
    {
     "name": "stdout",
     "output_type": "stream",
     "text": [
      "10\n"
     ]
    }
   ],
   "source": [
    "f2()"
   ]
  },
  {
   "cell_type": "code",
   "execution_count": 21,
   "id": "ff6c650c",
   "metadata": {},
   "outputs": [],
   "source": [
    "def func1():\n",
    "    x=10\n",
    "    y=5\n",
    "    print(\"add=\",x+y)"
   ]
  },
  {
   "cell_type": "code",
   "execution_count": 22,
   "id": "d3105f66",
   "metadata": {},
   "outputs": [],
   "source": [
    "def func2():\n",
    "    func1()# calling inner functioin\n",
    "    a=100\n",
    "    b=20\n",
    "    print(\"subtraction\",a-b)"
   ]
  },
  {
   "cell_type": "code",
   "execution_count": 23,
   "id": "6bfab8b0",
   "metadata": {},
   "outputs": [
    {
     "name": "stdout",
     "output_type": "stream",
     "text": [
      "add= 15\n",
      "subtraction 80\n"
     ]
    }
   ],
   "source": [
    "func2()"
   ]
  },
  {
   "cell_type": "markdown",
   "id": "df21be36",
   "metadata": {},
   "source": [
    "RETURN Keywords"
   ]
  },
  {
   "cell_type": "code",
   "execution_count": 27,
   "id": "f53afd73",
   "metadata": {},
   "outputs": [],
   "source": [
    "def func1():\n",
    "    a=40\n",
    "    b=30\n",
    "    c=a+b\n",
    "    print(c)"
   ]
  },
  {
   "cell_type": "code",
   "execution_count": 28,
   "id": "252defb1",
   "metadata": {},
   "outputs": [
    {
     "name": "stdout",
     "output_type": "stream",
     "text": [
      "70\n"
     ]
    }
   ],
   "source": [
    "func1()"
   ]
  },
  {
   "cell_type": "code",
   "execution_count": 29,
   "id": "64742dd7",
   "metadata": {},
   "outputs": [],
   "source": [
    "def func1():\n",
    "    a=40\n",
    "    b=30\n",
    "    c=a+b\n",
    "    print(\"c=\",c)"
   ]
  },
  {
   "cell_type": "code",
   "execution_count": 30,
   "id": "6502329d",
   "metadata": {},
   "outputs": [
    {
     "name": "stdout",
     "output_type": "stream",
     "text": [
      "c= 70\n"
     ]
    }
   ],
   "source": [
    "func1()"
   ]
  },
  {
   "cell_type": "code",
   "execution_count": 31,
   "id": "7b903bf3",
   "metadata": {},
   "outputs": [],
   "source": [
    "def func1():\n",
    "    a=40\n",
    "    b=30\n",
    "    c=a+b\n",
    "    return(c)"
   ]
  },
  {
   "cell_type": "code",
   "execution_count": 32,
   "id": "29893ee5",
   "metadata": {},
   "outputs": [
    {
     "data": {
      "text/plain": [
       "70"
      ]
     },
     "execution_count": 32,
     "metadata": {},
     "output_type": "execute_result"
    }
   ],
   "source": [
    "func1()"
   ]
  },
  {
   "cell_type": "code",
   "execution_count": 33,
   "id": "f9424fd3",
   "metadata": {},
   "outputs": [],
   "source": [
    "def func1():\n",
    "    a=40\n",
    "    b=30\n",
    "    c=a+b\n",
    "    return(c)"
   ]
  },
  {
   "cell_type": "code",
   "execution_count": 34,
   "id": "71fcad7c",
   "metadata": {},
   "outputs": [
    {
     "data": {
      "text/plain": [
       "70"
      ]
     },
     "execution_count": 34,
     "metadata": {},
     "output_type": "execute_result"
    }
   ],
   "source": [
    "func1()"
   ]
  },
  {
   "cell_type": "code",
   "execution_count": 35,
   "id": "17aa513b",
   "metadata": {},
   "outputs": [],
   "source": [
    "h=func1()"
   ]
  },
  {
   "cell_type": "code",
   "execution_count": 36,
   "id": "2f5621ae",
   "metadata": {},
   "outputs": [
    {
     "data": {
      "text/plain": [
       "70"
      ]
     },
     "execution_count": 36,
     "metadata": {},
     "output_type": "execute_result"
    }
   ],
   "source": [
    "h"
   ]
  },
  {
   "cell_type": "code",
   "execution_count": 37,
   "id": "4aaea48a",
   "metadata": {},
   "outputs": [],
   "source": [
    "def f1(h):\n",
    "    print(h-10)"
   ]
  },
  {
   "cell_type": "code",
   "execution_count": 38,
   "id": "c0c4cd4d",
   "metadata": {},
   "outputs": [
    {
     "name": "stdout",
     "output_type": "stream",
     "text": [
      "60\n"
     ]
    }
   ],
   "source": [
    "f1(h)"
   ]
  },
  {
   "cell_type": "code",
   "execution_count": 41,
   "id": "7d6f11ce",
   "metadata": {},
   "outputs": [],
   "source": [
    " def function2():\n",
    "        x=100\n",
    "        y=40\n",
    "        z=x-y\n",
    "        return z"
   ]
  },
  {
   "cell_type": "code",
   "execution_count": 42,
   "id": "6e7d21a6",
   "metadata": {},
   "outputs": [],
   "source": [
    "s=function2()"
   ]
  },
  {
   "cell_type": "code",
   "execution_count": 43,
   "id": "603a1065",
   "metadata": {},
   "outputs": [
    {
     "data": {
      "text/plain": [
       "60"
      ]
     },
     "execution_count": 43,
     "metadata": {},
     "output_type": "execute_result"
    }
   ],
   "source": [
    "s"
   ]
  },
  {
   "cell_type": "code",
   "execution_count": 44,
   "id": "ff84fff2",
   "metadata": {},
   "outputs": [],
   "source": [
    "def function2():\n",
    "        x=100\n",
    "        y=40\n",
    "        z=x-y\n",
    "        print(\"z=\",z)"
   ]
  },
  {
   "cell_type": "code",
   "execution_count": 45,
   "id": "e161a31b",
   "metadata": {},
   "outputs": [
    {
     "name": "stdout",
     "output_type": "stream",
     "text": [
      "z= 60\n"
     ]
    }
   ],
   "source": [
    "function2()"
   ]
  },
  {
   "cell_type": "code",
   "execution_count": 46,
   "id": "41e1745d",
   "metadata": {},
   "outputs": [],
   "source": [
    "def function2():\n",
    "        x=100\n",
    "        y=40\n",
    "        z=x-y\n",
    "        print(\"z=\",z)\n",
    "        return z"
   ]
  },
  {
   "cell_type": "code",
   "execution_count": 47,
   "id": "82242e5f",
   "metadata": {},
   "outputs": [
    {
     "name": "stdout",
     "output_type": "stream",
     "text": [
      "z= 60\n"
     ]
    }
   ],
   "source": [
    "t=function2()"
   ]
  },
  {
   "cell_type": "code",
   "execution_count": 48,
   "id": "e48d4e0c",
   "metadata": {},
   "outputs": [
    {
     "data": {
      "text/plain": [
       "60"
      ]
     },
     "execution_count": 48,
     "metadata": {},
     "output_type": "execute_result"
    }
   ],
   "source": [
    "t"
   ]
  },
  {
   "cell_type": "code",
   "execution_count": 54,
   "id": "7e3dbc8c",
   "metadata": {},
   "outputs": [],
   "source": [
    "def function2():\n",
    "        x=9\n",
    "        y=4\n",
    "        z=x-y\n",
    "        return z\n",
    "        print(\"end\")"
   ]
  },
  {
   "cell_type": "code",
   "execution_count": 55,
   "id": "c7a110de",
   "metadata": {},
   "outputs": [],
   "source": [
    "t=function2()"
   ]
  },
  {
   "cell_type": "code",
   "execution_count": 56,
   "id": "51402d3e",
   "metadata": {},
   "outputs": [
    {
     "data": {
      "text/plain": [
       "5"
      ]
     },
     "execution_count": 56,
     "metadata": {},
     "output_type": "execute_result"
    }
   ],
   "source": [
    "t"
   ]
  },
  {
   "cell_type": "code",
   "execution_count": null,
   "id": "8fff84ca",
   "metadata": {},
   "outputs": [],
   "source": []
  },
  {
   "cell_type": "markdown",
   "id": "b199c7ba",
   "metadata": {},
   "source": [
    "variable number of arguments\n",
    "\n",
    "\n",
    "\n",
    "in case where you dont know the exact number of arguments that you want to a function , you can use \n",
    "the following syntax with *args:\n"
   ]
  },
  {
   "cell_type": "code",
   "execution_count": 57,
   "id": "deacf170",
   "metadata": {},
   "outputs": [],
   "source": [
    "def plusfunction(*args):\n",
    "    return sum(args)"
   ]
  },
  {
   "cell_type": "code",
   "execution_count": 59,
   "id": "08900bec",
   "metadata": {},
   "outputs": [
    {
     "data": {
      "text/plain": [
       "20"
      ]
     },
     "execution_count": 59,
     "metadata": {},
     "output_type": "execute_result"
    }
   ],
   "source": [
    "#calling a function \n",
    "plusfunction(6,4,10)"
   ]
  },
  {
   "cell_type": "code",
   "execution_count": 60,
   "id": "74d0e8c3",
   "metadata": {},
   "outputs": [
    {
     "data": {
      "text/plain": [
       "14"
      ]
     },
     "execution_count": 60,
     "metadata": {},
     "output_type": "execute_result"
    }
   ],
   "source": [
    "plusfunction(2,2,1,4,5)"
   ]
  },
  {
   "cell_type": "code",
   "execution_count": 61,
   "id": "5c945892",
   "metadata": {},
   "outputs": [],
   "source": [
    "def maxfunction(*args):\n",
    "    return max(args)"
   ]
  },
  {
   "cell_type": "code",
   "execution_count": 62,
   "id": "3d998a88",
   "metadata": {},
   "outputs": [
    {
     "data": {
      "text/plain": [
       "90"
      ]
     },
     "execution_count": 62,
     "metadata": {},
     "output_type": "execute_result"
    }
   ],
   "source": [
    "maxfunction(9,90,78,45)"
   ]
  },
  {
   "cell_type": "code",
   "execution_count": 63,
   "id": "ebfa200b",
   "metadata": {},
   "outputs": [
    {
     "data": {
      "text/plain": [
       "80"
      ]
     },
     "execution_count": 63,
     "metadata": {},
     "output_type": "execute_result"
    }
   ],
   "source": [
    "maxfunction(19,80)"
   ]
  },
  {
   "cell_type": "code",
   "execution_count": 64,
   "id": "7e170612",
   "metadata": {},
   "outputs": [],
   "source": [
    "def maxfunction(*args):\n",
    "    return min(args)"
   ]
  },
  {
   "cell_type": "code",
   "execution_count": 66,
   "id": "077b6ad0",
   "metadata": {},
   "outputs": [],
   "source": [
    "def minfunction(*args):\n",
    "    return min(args)"
   ]
  },
  {
   "cell_type": "code",
   "execution_count": 67,
   "id": "1a118f00",
   "metadata": {},
   "outputs": [
    {
     "data": {
      "text/plain": [
       "67"
      ]
     },
     "execution_count": 67,
     "metadata": {},
     "output_type": "execute_result"
    }
   ],
   "source": [
    "minfunction(67,83,86)"
   ]
  },
  {
   "cell_type": "code",
   "execution_count": 68,
   "id": "e652d15f",
   "metadata": {},
   "outputs": [],
   "source": [
    "def f1():\n",
    "    a=19\n",
    "    b=3\n",
    "    print(c)\n",
    "    return c"
   ]
  },
  {
   "cell_type": "code",
   "execution_count": 69,
   "id": "57a3ee8e",
   "metadata": {},
   "outputs": [],
   "source": [
    "def f2():\n",
    "    a=19\n",
    "    b=3\n",
    "    c=a+b\n",
    "    print(c)\n",
    "    return c"
   ]
  },
  {
   "cell_type": "code",
   "execution_count": 77,
   "id": "0ef9342b",
   "metadata": {},
   "outputs": [],
   "source": [
    "def addf(*m):\n",
    "    return sum(m)"
   ]
  },
  {
   "cell_type": "code",
   "execution_count": 78,
   "id": "6b5993ce",
   "metadata": {},
   "outputs": [
    {
     "data": {
      "text/plain": [
       "90"
      ]
     },
     "execution_count": 78,
     "metadata": {},
     "output_type": "execute_result"
    }
   ],
   "source": [
    "addf(20,30,40)\n"
   ]
  },
  {
   "cell_type": "code",
   "execution_count": 79,
   "id": "0d163c16",
   "metadata": {},
   "outputs": [
    {
     "data": {
      "text/plain": [
       "240"
      ]
     },
     "execution_count": 79,
     "metadata": {},
     "output_type": "execute_result"
    }
   ],
   "source": [
    "addf(10,20,60,70,80)"
   ]
  },
  {
   "cell_type": "code",
   "execution_count": 80,
   "id": "9ef02a38",
   "metadata": {},
   "outputs": [],
   "source": [
    "# s=s+n for s+=n\n",
    "\n",
    "def sumfunc(*numbers):\n",
    "    s=0\n",
    "    for n in numbers:\n",
    "        s+=n\n",
    "    return s"
   ]
  },
  {
   "cell_type": "code",
   "execution_count": 81,
   "id": "7b77c927",
   "metadata": {},
   "outputs": [
    {
     "name": "stdout",
     "output_type": "stream",
     "text": [
      "3\n"
     ]
    }
   ],
   "source": [
    "print (sumfunc(1,2))"
   ]
  },
  {
   "cell_type": "code",
   "execution_count": 82,
   "id": "faaaf263",
   "metadata": {},
   "outputs": [
    {
     "name": "stdout",
     "output_type": "stream",
     "text": [
      "6\n"
     ]
    }
   ],
   "source": [
    "print (sumfunc(1,2,3))"
   ]
  },
  {
   "cell_type": "code",
   "execution_count": 83,
   "id": "543f13f9",
   "metadata": {},
   "outputs": [
    {
     "name": "stdout",
     "output_type": "stream",
     "text": [
      "10\n"
     ]
    }
   ],
   "source": [
    "print (sumfunc(1,2,3,4))"
   ]
  },
  {
   "cell_type": "code",
   "execution_count": null,
   "id": "69fdd66b",
   "metadata": {},
   "outputs": [],
   "source": []
  }
 ],
 "metadata": {
  "kernelspec": {
   "display_name": "Python 3 (ipykernel)",
   "language": "python",
   "name": "python3"
  },
  "language_info": {
   "codemirror_mode": {
    "name": "ipython",
    "version": 3
   },
   "file_extension": ".py",
   "mimetype": "text/x-python",
   "name": "python",
   "nbconvert_exporter": "python",
   "pygments_lexer": "ipython3",
   "version": "3.9.12"
  }
 },
 "nbformat": 4,
 "nbformat_minor": 5
}
